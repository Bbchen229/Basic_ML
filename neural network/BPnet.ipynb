{
 "cells": [
  {
   "cell_type": "markdown",
   "metadata": {},
   "source": [
    "# BP神经网络分类Fashion MNIST数据集\n",
    "09118241 陈嘉源"
   ]
  },
  {
   "cell_type": "code",
   "execution_count": 1,
   "metadata": {},
   "outputs": [],
   "source": [
    "import cv2\n",
    "import csv\n",
    "import matplotlib.pyplot as plt\n",
    "import numpy as np\n",
    "import random\n",
    "import os, struct"
   ]
  },
  {
   "cell_type": "markdown",
   "metadata": {},
   "source": [
    "## 加载数据集"
   ]
  },
  {
   "cell_type": "code",
   "execution_count": 2,
   "metadata": {},
   "outputs": [
    {
     "name": "stdout",
     "output_type": "stream",
     "text": [
      "加载数据...\n",
      "finished\n"
     ]
    }
   ],
   "source": [
    "print('加载数据...')\n",
    "#读取测试集\n",
    "testpath = './test'\n",
    "test = []\n",
    "imagelist = os.listdir(testpath)\n",
    "for i in range(len(imagelist)):\n",
    "    image = cv2.imread('./test/'+str(i)+'.jpg',0)\n",
    "    test.append(image)\n",
    "test = np.array(test)\n",
    "#读取训练集\n",
    "labelpath = './train.csv'\n",
    "label = []\n",
    "data = []\n",
    "with open(labelpath, 'r') as f:\n",
    "    reader = csv.reader(f)\n",
    "    for row in reader:\n",
    "        img = cv2.imread(row[0],0)\n",
    "        data.append(img)\n",
    "        label.append(int(row[1]))\n",
    "train = np.array(data)\n",
    "print('finished')"
   ]
  },
  {
   "cell_type": "markdown",
   "metadata": {},
   "source": [
    "## 划分训练集、验证集、做数据增广"
   ]
  },
  {
   "cell_type": "code",
   "execution_count": 3,
   "metadata": {},
   "outputs": [],
   "source": [
    "#训练集最后2000个样本构成验证集，前58000个为训练集\n",
    "val_data = []\n",
    "val_label = []\n",
    "for k in range(2000):\n",
    "    val_data.append(train[58000+k])\n",
    "    val_label.append(label[58000+k])\n",
    "val_data = np.array(val_data)\n",
    "val_label = np.array(val_label)\n",
    "train = train[0:58000]"
   ]
  },
  {
   "cell_type": "code",
   "execution_count": 4,
   "metadata": {},
   "outputs": [],
   "source": [
    "#增广训练集，构成60000个样本点\n",
    "for i in range(2000):\n",
    "    img = train[i]\n",
    "    trans_img = cv2.transpose(img)\n",
    "    dst = cv2.flip(trans_img, 1) #旋转90度   \n",
    "    np.append(train,dst)\n",
    "    np.append(label,label[i])"
   ]
  },
  {
   "cell_type": "markdown",
   "metadata": {},
   "source": [
    "## 搭建神经网络-前馈、反向传播、Mini-batch GD"
   ]
  },
  {
   "cell_type": "code",
   "execution_count": 5,
   "metadata": {},
   "outputs": [],
   "source": [
    "class NeuralNet(object):\n",
    "    # 初始化神经网络，sizes是神经网络的层数和每层神经元个数\n",
    "    def __init__(self, sizes):\n",
    "        self.sizes_ = sizes\n",
    "        self.num_layers_ = len(sizes)  # 层数\n",
    "        self.w_ = [np.random.randn(y, x) for x, y in zip(sizes[:-1], sizes[1:])]  #[784*40,40*10]\n",
    "        self.b_ = [np.random.randn(y, 1) for y in sizes[1:]] #[40*1,10*1]\n",
    "    # Sigmoid函数，\n",
    "    def sigmoid(self, z):\n",
    "        return 1.0/(1.0+np.exp(-z))\n",
    "    \n",
    "    # Sigmoid函数的导函数\n",
    "    def sigmoid_prime(self, z):\n",
    "        return self.sigmoid(z)*(1-self.sigmoid(z))\n",
    "    \n",
    "    def feedforward(self, x):\n",
    "        for b, w in zip(self.b_, self.w_):\n",
    "            x = self.sigmoid(np.dot(w, x)+b)\n",
    "        return x\n",
    "    def backprop(self, x, y):\n",
    "        delta_b = [np.zeros(b.shape) for b in self.b_]\n",
    "        delta_w = [np.zeros(w.shape) for w in self.w_]\n",
    " \n",
    "        activation = x\n",
    "        activations = [x]\n",
    "        zs = []\n",
    "        for b, w in zip(self.b_, self.w_):\n",
    "            z = np.dot(w, activation)+b\n",
    "            zs.append(z)\n",
    "            activation = self.sigmoid(z)\n",
    "            activations.append(activation)\n",
    " \n",
    "        delta = (activations[-1]-y) * self.sigmoid_prime(zs[-1])\n",
    "        delta_b[-1] = delta\n",
    "        delta_w[-1] = np.dot(delta, activations[-2].transpose())\n",
    " \n",
    "        for l in range(2, self.num_layers_):\n",
    "            z = zs[-l]\n",
    "            sp = self.sigmoid_prime(z)\n",
    "            delta = np.dot(self.w_[-l+1].transpose(), delta) * sp\n",
    "            delta_b[-l] = delta\n",
    "            delta_w[-l] = np.dot(delta, activations[-l-1].transpose())\n",
    "        return (delta_b, delta_w)\n",
    " \n",
    "    def update_mini_batch(self, mini_batch, eta):\n",
    "        nabla_b = [np.zeros(b.shape) for b in self.b_]\n",
    "        nabla_w = [np.zeros(w.shape) for w in self.w_]\n",
    "        for x, y in mini_batch:\n",
    "            delta_nabla_b, delta_nabla_w = self.backprop(x, y)\n",
    "            nabla_b = [nb+dnb for nb, dnb in zip(nabla_b, delta_nabla_b)]\n",
    "            nabla_w = [nw+dnw for nw, dnw in zip(nabla_w, delta_nabla_w)]\n",
    "        self.w_ = [w-(eta/len(mini_batch))*nw for w, nw in zip(self.w_, nabla_w)]\n",
    "        self.b_ = [b-(eta/len(mini_batch))*nb for b, nb in zip(self.b_, nabla_b)]\n",
    " \n",
    "    # epochs：训练次数;mini_batch_size：每次训练样本数;eta：learning rate\n",
    "    def MBGD(self, training_data, epochs, mini_batch_size, eta, test_data=None):\n",
    "        ac_list = []\n",
    "        epoch_list = []\n",
    "        if test_data:\n",
    "            n_test = len(test_data)\n",
    "        n = len(training_data)\n",
    "        for j in range(epochs):\n",
    "            random.shuffle(training_data)\n",
    "            mini_batches = [training_data[k:k+mini_batch_size] for k in range(0, n, mini_batch_size)]\n",
    "            for mini_batch in mini_batches:\n",
    "                self.update_mini_batch(mini_batch, eta)\n",
    "            if test_data:\n",
    "                #if (j+1)%10==0:\n",
    "                    epoch_list.append(j)\n",
    "                    print(\"Epoch {0}: {1} / {2}\".format(j+1, self.evaluate(test_data), n_test))\n",
    "                    ac_list.append(self.evaluate(test_data)/n_test) \n",
    "            else:\n",
    "                print(\"Epoch {0} complete\".format(j))\n",
    "        plt.plot(epoch_list, ac_list)\n",
    "        plt.show()\n",
    " \n",
    "    def evaluate(self, test_data):\n",
    "        test_results = [(np.argmax(self.feedforward(x)), y) for (x, y) in test_data]\n",
    "        return sum(int(x == y) for (x, y) in test_results)\n",
    " \n",
    "    # 预测\n",
    "    def predict(self, data):\n",
    "        value = self.feedforward(data)\n",
    "        return value.tolist().index(max(value))\n",
    "    \n",
    "\n",
    "def pack_data(image,label,dataset = \"training_data\"):\n",
    "    '''\n",
    "    构建dataset\n",
    "    '''\n",
    "    X = [np.reshape(x,(28*28,1)) for x in image]\n",
    "    X = [x/255.0 for x in X]   # 灰度值范围(0-255)，转换为(0-1)\n",
    "     \n",
    "    # one_hot:将标签转化为10*1的向量   1-> [0,1.0,0,0,0,0,0,0,0]\n",
    "    def vectorized_Y(y): \n",
    "        e = np.zeros((10, 1))\n",
    "        e[int(y)] = 1.0\n",
    "        return e\n",
    "    if dataset == \"training_data\":\n",
    "        Y = [vectorized_Y(y) for y in label]\n",
    "        pack = list(zip(X, Y))\n",
    "        return pack\n",
    "    elif dataset == 'testing_data':\n",
    "        pack = list(zip(X, label))\n",
    "        return pack\n",
    "    else:\n",
    "        print('wrong')    "
   ]
  },
  {
   "cell_type": "markdown",
   "metadata": {},
   "source": [
    "## 构造一个三层神经网络 (28*28->40->10)"
   ]
  },
  {
   "cell_type": "markdown",
   "metadata": {},
   "source": [
    "隐藏层size为调参之后较优结果，可做一定调整"
   ]
  },
  {
   "cell_type": "code",
   "execution_count": 8,
   "metadata": {},
   "outputs": [
    {
     "name": "stdout",
     "output_type": "stream",
     "text": [
      "Epoch 1: 1478 / 2000\n",
      "Epoch 2: 1539 / 2000\n",
      "Epoch 3: 1560 / 2000\n",
      "Epoch 4: 1585 / 2000\n",
      "Epoch 5: 1589 / 2000\n",
      "Epoch 6: 1596 / 2000\n",
      "Epoch 7: 1588 / 2000\n",
      "Epoch 8: 1600 / 2000\n",
      "Epoch 9: 1611 / 2000\n",
      "Epoch 10: 1605 / 2000\n",
      "Epoch 11: 1601 / 2000\n",
      "Epoch 12: 1610 / 2000\n",
      "Epoch 13: 1614 / 2000\n",
      "Epoch 14: 1620 / 2000\n",
      "Epoch 15: 1618 / 2000\n",
      "Epoch 16: 1610 / 2000\n",
      "Epoch 17: 1616 / 2000\n",
      "Epoch 18: 1632 / 2000\n",
      "Epoch 19: 1619 / 2000\n",
      "Epoch 20: 1629 / 2000\n",
      "Epoch 21: 1634 / 2000\n",
      "Epoch 22: 1626 / 2000\n",
      "Epoch 23: 1626 / 2000\n",
      "Epoch 24: 1624 / 2000\n",
      "Epoch 25: 1626 / 2000\n",
      "Epoch 26: 1633 / 2000\n",
      "Epoch 27: 1636 / 2000\n",
      "Epoch 28: 1646 / 2000\n",
      "Epoch 29: 1628 / 2000\n",
      "Epoch 30: 1632 / 2000\n"
     ]
    },
    {
     "data": {
      "image/png": "[encoded data removed]",
      "text/plain": [
       "<Figure size 432x288 with 1 Axes>"
      ]
     },
     "metadata": {
      "needs_background": "light"
     },
     "output_type": "display_data"
    },
    {
     "name": "stdout",
     "output_type": "stream",
     "text": [
      "准确率:  0.816\n"
     ]
    }
   ],
   "source": [
    "input_size = 28*28\n",
    "output_size = 10\n",
    "net = NeuralNet([input_size, 42, output_size])\n",
    "train_set = pack_data(train,label,dataset='training_data')\n",
    "test_set = pack_data(val_data,val_label,dataset='testing_data')\n",
    "net.MBGD(train_set, 30, 100, 2.7,test_data=test_set)\n",
    "#准确率\n",
    "correct = 0;\n",
    "for test_feature in test_set:\n",
    "    if net.predict(test_feature[0]) == test_feature[1]:\n",
    "        correct += 1\n",
    "print(\"准确率: \", correct/len(test_set))"
   ]
  },
  {
   "cell_type": "markdown",
   "metadata": {},
   "source": [
    "## 在测试集上分类，写入csv"
   ]
  },
  {
   "cell_type": "code",
   "execution_count": 12,
   "metadata": {},
   "outputs": [
    {
     "name": "stderr",
     "output_type": "stream",
     "text": [
      "/opt/anaconda3/lib/python3.7/site-packages/ipykernel_launcher.py:10: RuntimeWarning: overflow encountered in exp\n",
      "  # Remove the CWD from sys.path while we load stuff.\n"
     ]
    },
    {
     "name": "stdout",
     "output_type": "stream",
     "text": [
      "finishied\n"
     ]
    }
   ],
   "source": [
    "f = open('test_prediction.csv','w',encoding='utf-8')\n",
    "csv_writer = csv.writer(f)\n",
    "for i in range(len(test)):\n",
    "    t = np.resize(test[i],(28*28,1))\n",
    "    csv_writer.writerow([('./test/'+str(i)+'.jpg'), net.predict(t)])\n",
    "print('finishied')"
   ]
  }
 ],
 "metadata": {
  "kernelspec": {
   "display_name": "Python 3",
   "language": "python",
   "name": "python3"
  },
  "language_info": {
   "codemirror_mode": {
    "name": "ipython",
    "version": 3
   },
   "file_extension": ".py",
   "mimetype": "text/x-python",
   "name": "python",
   "nbconvert_exporter": "python",
   "pygments_lexer": "ipython3",
   "version": "3.7.4"
  }
 },
 "nbformat": 4,
 "nbformat_minor": 4
}
