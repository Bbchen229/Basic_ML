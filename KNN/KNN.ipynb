{
 "cells": [
  {
   "cell_type": "markdown",
   "metadata": {},
   "source": [
    "# KNN分类任务-wine数据集\n",
    "09118241 陈嘉源"
   ]
  },
  {
   "cell_type": "code",
   "execution_count": 1,
   "metadata": {},
   "outputs": [],
   "source": [
    "import numpy as np\n",
    "import pandas as pd\n",
    "import math\n",
    "import csv\n",
    "import matplotlib.pyplot as plt\n",
    "import scipy\n",
    "from scipy import io\n",
    "\n",
    "train_path = './data/train_data.mat'#125-训练集\n",
    "val_path = './data/val_data.mat'#27-验证集\n",
    "test_path = './data/test_data.mat'#26-测试集\n",
    "result_path1 = './task1_test_prediction.csv'\n",
    "result_path2 = './task2_test_prediction.csv'"
   ]
  },
  {
   "cell_type": "markdown",
   "metadata": {},
   "source": [
    "## 定义工具函数：加载数据、数据预处理（归一化、缺失值补充）、欧式距离、计算准确率"
   ]
  },
  {
   "cell_type": "code",
   "execution_count": 2,
   "metadata": {},
   "outputs": [],
   "source": [
    "def dataloader(path):\n",
    "    data_a = scipy.io.loadmat(path)\n",
    "    data_b = list(data_a.values())\n",
    "    data = np.array(data_b[3]) #n*13\n",
    "    label = np.array(data_b[4]) #n*1\n",
    "    return data,label\n",
    "\n",
    "def normalization(input_data):\n",
    "    '''\n",
    "    数据预处理 归一化，‘nan‘用均值代替\n",
    "    '''\n",
    "    nan = input_data[:,12]\n",
    "    list_para = []\n",
    "    for k in range(len(nan)):\n",
    "        if nan[k] > 0:\n",
    "            list_para.append(nan[k])\n",
    "    mean_para = np.mean(list_para)\n",
    "    for k in range(len(input_data[:,12])):\n",
    "        if np.isnan(input_data[k][12]):\n",
    "            input_data[k][12]=mean_para\n",
    "    for i in range(13):\n",
    "        data = input_data[:,i]\n",
    "        mean = np.mean(data)\n",
    "        maxi = data.max()\n",
    "        mini = data.min()\n",
    "        for j in range(len(data)):\n",
    "            input_data[j][i] = (data[j]-mini)/(maxi-mini)\n",
    "\n",
    "def distance(x,y):\n",
    "    dim = len(x)\n",
    "    sum_dis = 0\n",
    "    for i in range(dim):\n",
    "        sum_dis+=(x[i]-y[i])**2\n",
    "    return math.sqrt(sum_dis)\n",
    "\n",
    "def test(train,val):\n",
    "    '''\n",
    "    测试knn中参数k\n",
    "    '''\n",
    "    accuracy_list = []\n",
    "    for k in range(9):\n",
    "        train_list = []\n",
    "        for i in val:\n",
    "            a = KnnClassifier(k+1,train,train_label,i)\n",
    "            train_list.append(a)\n",
    "        tmp = accuracy(train_list,val_label)\n",
    "        accuracy_list.append(tmp)\n",
    "    return accuracy_list\n",
    "            \n",
    "def accuracy(label,test_label):\n",
    "    '''\n",
    "    计算准确率\n",
    "    '''\n",
    "    k=0\n",
    "    for i in range(len(label)):\n",
    "        if label[i] == test_label[i]:\n",
    "            k+=1\n",
    "    return k/(len(label))            "
   ]
  },
  {
   "cell_type": "code",
   "execution_count": 3,
   "metadata": {},
   "outputs": [],
   "source": [
    "train_data,train_label = dataloader(train_path) #125*13 ，125*1\n",
    "val_data,val_label = dataloader(val_path)       #27*13，27*1\n",
    "test_data = np.array(list(scipy.io.loadmat(test_path).values())[3]) #26*13\n",
    "#数据预处理\n",
    "normalization(train_data)\n",
    "normalization(val_data)\n",
    "normalization(test_data)"
   ]
  },
  {
   "cell_type": "markdown",
   "metadata": {},
   "source": [
    "## KNN分类器:（参数k,数据集,标签,待分类数据）"
   ]
  },
  {
   "cell_type": "code",
   "execution_count": 4,
   "metadata": {},
   "outputs": [],
   "source": [
    "def KnnClassifier(k,dataset,labelset,input_y):\n",
    "    '''\n",
    "    k：参数 \n",
    "    dataset：数据集 \n",
    "    labelset：标签\n",
    "    input_y：待分类样本\n",
    "    '''\n",
    "    n = len(dataset)\n",
    "    dis = []\n",
    "    label_list =[]\n",
    "    \n",
    "    for i in range(n):\n",
    "        dis_i=distance(dataset[i],input_y)\n",
    "        dis.append(dis_i)\n",
    "    \n",
    "    dis_k = sorted(dis)[:k] #距离升序排序\n",
    "    #print(dis_k)\n",
    "    for j in range(k):\n",
    "        tmp = dis.index(dis_k[j])\n",
    "        label_list.append(labelset[tmp])\n",
    "    label = max(label_list, key=label_list.count)\n",
    "    #print(label)\n",
    "    return label"
   ]
  },
  {
   "cell_type": "markdown",
   "metadata": {},
   "source": [
    "## 马氏距离，学习线性映射"
   ]
  },
  {
   "cell_type": "code",
   "execution_count": 5,
   "metadata": {},
   "outputs": [],
   "source": [
    "class Mahalanobis_Distance():\n",
    "    def __init__(self, low_dims, learning_rate = 0.01, max_steps = 500):\n",
    "        '''\n",
    "        low_dims : 线性映射后的维度\n",
    "        learning_rate :梯度下降的学习率 default 0.01\n",
    "        max_steps : 梯度下降停止步长 default 500\n",
    "        '''\n",
    "        self.low_dims = low_dims\n",
    "        self.learning_rate = learning_rate\n",
    "        self.max_steps = max_steps\n",
    "\n",
    "    def fit(self, X, Y):\n",
    "        '''\n",
    "        学习映射矩阵 A\n",
    "        maximize \\sum_i \\sum_{j \\in C_i} frac{exp(-||Ax_i-Ax_j||^2)}{\\sum_{k neq i} exp(-||Ax_i-Ax_k||^2)}\n",
    "        '''\n",
    "        (n, d) = X.shape \n",
    "        self.n_samples = n#125\n",
    "        self.high_dims = d#13\n",
    "\n",
    "        # matrix A\n",
    "        self.A = 0.1 * np.random.standard_normal(size = (self.high_dims, self.low_dims))\n",
    "\n",
    "        # 梯度下降\n",
    "        steps = 0\n",
    "        target = 0.0\n",
    "        while steps < self.max_steps:\n",
    "            low_X = np.dot(X, self.A)                      #125*2\n",
    "            sum_row = np.sum(low_X ** 2, axis = 1)\n",
    "            xxt = np.dot(low_X, low_X.transpose())\n",
    "            pij_mat = sum_row + np.reshape(sum_row, (-1, 1)) - 2 * xxt       # (125, 125)\n",
    "            pij_mat = np.exp(0.0 - pij_mat)\n",
    "            np.fill_diagonal(pij_mat, 0.0)\n",
    "            pij_mat = pij_mat / np.sum(pij_mat, axis = 1)[:, None]          # (125, 125)\n",
    "            #mask_{ij} = True if Y[i] == Y[j]  \n",
    "            mask = (Y == Y[:, None])    \n",
    "            mask = np.resize(mask, (125,125)) \n",
    "            # mask array\n",
    "            pij_mat_mask = pij_mat * mask                                        # (125, 125)\n",
    "            # pi = \\sum_{j \\in C_i} p_{ij}\n",
    "            pi_arr = np.array(np.sum(pij_mat_mask, axis = 1))                    # (125, )\n",
    "            self.target = np.sum(pi_arr)\n",
    "            # 梯度\n",
    "            weighted_pij = pij_mat_mask - pij_mat * pi_arr[:, None]             # (125, 125)\n",
    "            weighted_pij_sum = weighted_pij + weighted_pij.transpose()          # (125, 125)\n",
    "            np.fill_diagonal(weighted_pij_sum, -weighted_pij.sum(axis = 0))\n",
    "            tmp = (low_X.transpose().dot(weighted_pij_sum))                         #2*125 125*125 = 2*125\n",
    "            gradients = 2 * np.dot(tmp,X).transpose()                               # (13, 2)\n",
    "            # 更新A\n",
    "            self.A += 0.01 * gradients\n",
    "            # step++\n",
    "            steps += 1\n",
    "\n",
    "    def transform(self, X):\n",
    "        '''\n",
    "        特征线性映射\n",
    "        '''\n",
    "        low_X = np.dot(X, self.A)\n",
    "        return low_X\n",
    "    \n",
    "    def get_A(self):\n",
    "        #print(self.A)\n",
    "        return self.A\n"
   ]
  },
  {
   "cell_type": "markdown",
   "metadata": {},
   "source": [
    "## 在训练集上学习，并进行线性映射"
   ]
  },
  {
   "cell_type": "code",
   "execution_count": 6,
   "metadata": {},
   "outputs": [],
   "source": [
    "mahalanobis = Mahalanobis_Distance(low_dims = 2, max_steps = 100)\n",
    "mahalanobis.fit(train_data, train_label)\n",
    "low_train = mahalanobis.transform(train_data)\n",
    "low_val = mahalanobis.transform(val_data)"
   ]
  },
  {
   "cell_type": "markdown",
   "metadata": {},
   "source": [
    "## 分别对欧式距离和马氏距离两种度量测试准确率，并分析参数k的影响"
   ]
  },
  {
   "cell_type": "code",
   "execution_count": 7,
   "metadata": {},
   "outputs": [
    {
     "name": "stdout",
     "output_type": "stream",
     "text": [
      "Euclidean Distance:\n",
      "k= 1 accuracy= 0.8888888888888888\n",
      "k= 2 accuracy= 0.8888888888888888\n",
      "k= 3 accuracy= 0.8888888888888888\n",
      "k= 4 accuracy= 0.8888888888888888\n",
      "k= 5 accuracy= 0.9259259259259259\n",
      "k= 6 accuracy= 0.9259259259259259\n",
      "k= 7 accuracy= 0.9259259259259259\n",
      "k= 8 accuracy= 0.9259259259259259\n",
      "k= 9 accuracy= 0.9259259259259259\n",
      "Mahalanobis Distance:\n",
      "k= 1 accuracy= 0.9629629629629629\n",
      "k= 2 accuracy= 0.9629629629629629\n",
      "k= 3 accuracy= 0.9259259259259259\n",
      "k= 4 accuracy= 0.9629629629629629\n",
      "k= 5 accuracy= 0.9629629629629629\n",
      "k= 6 accuracy= 0.9629629629629629\n",
      "k= 7 accuracy= 0.9629629629629629\n",
      "k= 8 accuracy= 0.9629629629629629\n",
      "k= 9 accuracy= 0.9629629629629629\n"
     ]
    }
   ],
   "source": [
    "oushi = test(train_data,val_data)\n",
    "mashi = test(low_train,low_val)\n",
    "print('Euclidean Distance:')\n",
    "for i in range(len(oushi)):\n",
    "    print('k=',i+1, 'accuracy=',oushi[i])\n",
    "print('Mahalanobis Distance:')\n",
    "for i in range(len(mashi)):\n",
    "    print('k=',i+1, 'accuracy=',mashi[i])"
   ]
  },
  {
   "cell_type": "code",
   "execution_count": 8,
   "metadata": {},
   "outputs": [
    {
     "data": {
      "image/png": "[encoded data removed]",
      "text/plain": [
       "<Figure size 432x288 with 1 Axes>"
      ]
     },
     "metadata": {
      "needs_background": "light"
     },
     "output_type": "display_data"
    }
   ],
   "source": [
    "#马氏距离降维结果可视化\n",
    "plt.scatter(low_train[:, 0], low_train[:, 1], c = train_label[:,0])\n",
    "plt.show()  "
   ]
  },
  {
   "cell_type": "markdown",
   "metadata": {},
   "source": [
    "## 在测试集上预测标签，写入csv"
   ]
  },
  {
   "cell_type": "code",
   "execution_count": 9,
   "metadata": {},
   "outputs": [
    {
     "name": "stdout",
     "output_type": "stream",
     "text": [
      "finishied\n"
     ]
    }
   ],
   "source": [
    "f = open(result_path1,'w',encoding='utf-8')\n",
    "csv_writer = csv.writer(f)\n",
    "for i in test_data:\n",
    "    csv_writer.writerow(KnnClassifier(9,train_data,train_label,i))\n",
    "print('finishied')\n",
    "f.close()"
   ]
  },
  {
   "cell_type": "code",
   "execution_count": 10,
   "metadata": {},
   "outputs": [
    {
     "name": "stdout",
     "output_type": "stream",
     "text": [
      "finishied\n"
     ]
    }
   ],
   "source": [
    "test_ma = mahalanobis.transform(test_data)\n",
    "f = open(result_path2,'w',encoding='utf-8')\n",
    "csv_writer = csv.writer(f)\n",
    "for i in test_ma:\n",
    "    csv_writer.writerow(KnnClassifier(9,low_train,train_label,i))\n",
    "print('finishied')\n",
    "f.close()"
   ]
  }
 ],
 "metadata": {
  "kernelspec": {
   "display_name": "Python 3",
   "language": "python",
   "name": "python3"
  },
  "language_info": {
   "codemirror_mode": {
    "name": "ipython",
    "version": 3
   },
   "file_extension": ".py",
   "mimetype": "text/x-python",
   "name": "python",
   "nbconvert_exporter": "python",
   "pygments_lexer": "ipython3",
   "version": "3.7.4"
  }
 },
 "nbformat": 4,
 "nbformat_minor": 4
}
